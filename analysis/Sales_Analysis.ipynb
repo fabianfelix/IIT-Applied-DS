{
 "cells": [
  {
   "cell_type": "markdown",
   "id": "55557faf-5978-4f1b-880c-4c933506536a",
   "metadata": {},
   "source": [
    "# Sales Analysis - AAL"
   ]
  },
  {
   "cell_type": "markdown",
   "id": "e69e92d6-23fe-4ecd-8abc-02e8b64cfbbd",
   "metadata": {},
   "source": [
    "### 1. Data Wrangling"
   ]
  },
  {
   "cell_type": "code",
   "execution_count": 31,
   "id": "cfabcb10-0a21-48bd-818c-35057046c22f",
   "metadata": {},
   "outputs": [],
   "source": [
    "# importing the necessary libraries\n",
    "import pandas as pd\n",
    "import matplotlib.pyplot as plt\n",
    "import seaborn as sns"
   ]
  },
  {
   "cell_type": "markdown",
   "id": "715d44c7-324f-4987-b69e-9e9d476876a9",
   "metadata": {},
   "source": [
    "##### Check for missing values"
   ]
  },
  {
   "cell_type": "code",
   "execution_count": 32,
   "id": "75387f21-1a08-4316-855f-30e37ed978a1",
   "metadata": {},
   "outputs": [
    {
     "name": "stdout",
     "output_type": "stream",
     "text": [
      "Total Rows: 7560\n",
      "\n",
      "Missing Data:\n",
      "Date     0\n",
      "Time     0\n",
      "State    0\n",
      "Group    0\n",
      "Unit     0\n",
      "Sales    0\n",
      "dtype: int64\n",
      "\n",
      "Non-missing Data:\n",
      "Date     7560\n",
      "Time     7560\n",
      "State    7560\n",
      "Group    7560\n",
      "Unit     7560\n",
      "Sales    7560\n",
      "dtype: int64\n"
     ]
    }
   ],
   "source": [
    "# Load data from the csv file\n",
    "df = pd.read_csv('../data/ausapparalsales4thqrt2020.csv')\n",
    "\n",
    "# Check missing data\n",
    "missing_data = df.isna().sum()\n",
    "\n",
    "# Count rows\n",
    "row_count = df.shape[0]\n",
    "\n",
    "# Non-missing data\n",
    "non_missing_data = df.notna().sum()\n",
    "\n",
    "print(f'Total Rows: {row_count}\\n\\nMissing Data:\\n{missing_data}\\n\\nNon-missing Data:\\n{non_missing_data}')"
   ]
  },
  {
   "cell_type": "markdown",
   "id": "1b7d0632-8161-466c-8562-548b29a4cccf",
   "metadata": {},
   "source": [
    "##### The above indicates that there is no missing data.\n",
    "\n",
    "##### Dropping Null Values\n",
    "If the percentage of missing values is relatively small and randomly distributed, we can consider dropping rows with missing values un=sing df.dropna().\n",
    "\n",
    "##### Filling Null Values\n",
    "If missing values follow a pattern or can be reasonably estimated, we can consider filling them with appropriate values like mean, median, or forward/backward fill. In this case we can use df.fillna()."
   ]
  },
  {
   "cell_type": "code",
   "execution_count": 33,
   "id": "ba9902d8-96d8-4f49-a253-b8cfd8634f44",
   "metadata": {},
   "outputs": [
    {
     "name": "stderr",
     "output_type": "stream",
     "text": [
      "C:\\Users\\fabia\\AppData\\Local\\Temp\\ipykernel_16584\\278758404.py:2: UserWarning: Could not infer format, so each element will be parsed individually, falling back to `dateutil`. To ensure parsing is consistent and as-expected, please specify a format.\n",
      "  df['Date'] = pd.to_datetime(df['Date'])\n"
     ]
    }
   ],
   "source": [
    "# Convert the \"Date\" column to datetime format\n",
    "df['Date'] = pd.to_datetime(df['Date'])\n",
    "\n",
    "# Set the \"Date\" column as the index\n",
    "df.set_index('Date', inplace=True)\n"
   ]
  },
  {
   "cell_type": "code",
   "execution_count": 34,
   "id": "c4bbf5ba-b533-4497-864f-084d125fc0d5",
   "metadata": {},
   "outputs": [
    {
     "name": "stdout",
     "output_type": "stream",
     "text": [
      "Normalized Data:\n",
      "                  Time State     Group  Unit  Sales  Unit_normalized  \\\n",
      "Date                                                                   \n",
      "2020-10-01     Morning    WA      Kids     8  20000         0.095238   \n",
      "2020-10-01     Morning    WA       Men     8  20000         0.095238   \n",
      "2020-10-01     Morning    WA     Women     4  10000         0.031746   \n",
      "2020-10-01     Morning    WA   Seniors    15  37500         0.206349   \n",
      "2020-10-01   Afternoon    WA      Kids     3   7500         0.015873   \n",
      "\n",
      "            Sales_normalized  \n",
      "Date                          \n",
      "2020-10-01          0.095238  \n",
      "2020-10-01          0.095238  \n",
      "2020-10-01          0.031746  \n",
      "2020-10-01          0.206349  \n",
      "2020-10-01          0.015873  \n"
     ]
    }
   ],
   "source": [
    "from sklearn.preprocessing import MinMaxScaler\n",
    "\n",
    "# Numeric columns for normalization\n",
    "numeric_cols = ['Unit', 'Sales']\n",
    "\n",
    "# Initializing scaler\n",
    "scaler = MinMaxScaler()\n",
    "\n",
    "# Create new columns for normalized data\n",
    "normalized_cols = [f'{col}_normalized' for col in numeric_cols]\n",
    "\n",
    "# Normalizing columns\n",
    "df[normalized_cols] = scaler.fit_transform(df[numeric_cols])\n",
    "\n",
    "# Showing first few rows of the normalized data\n",
    "print(\"Normalized Data:\")\n",
    "print(df.head())\n"
   ]
  },
  {
   "cell_type": "markdown",
   "id": "2316d6a2-abc0-4022-a798-300b1474226c",
   "metadata": {},
   "source": [
    "#### Grouping\n",
    "##### Grouping by Sales\n",
    "##### By State"
   ]
  },
  {
   "cell_type": "code",
   "execution_count": 35,
   "id": "b43c15f5-bf53-4121-8f53-0ba7f6c25cfe",
   "metadata": {},
   "outputs": [
    {
     "name": "stdout",
     "output_type": "stream",
     "text": [
      "Total Sales by State:\n",
      "State\n",
      "NSW     74970000\n",
      "NT      22580000\n",
      "QLD     33417500\n",
      "SA      58857500\n",
      "TAS     22760000\n",
      "VIC    105565000\n",
      "WA      22152500\n",
      "Name: Sales, dtype: int64\n"
     ]
    }
   ],
   "source": [
    "# Group by State and sum sales\n",
    "sales_by_state = df.groupby('State')['Sales'].sum()\n",
    "\n",
    "print(\"Total Sales by State:\")\n",
    "print(sales_by_state)\n"
   ]
  },
  {
   "cell_type": "markdown",
   "id": "3f27cef1-a00a-463f-b532-a2bf5d63557e",
   "metadata": {},
   "source": [
    "##### By Group"
   ]
  },
  {
   "cell_type": "code",
   "execution_count": 36,
   "id": "abfb9088-73fe-4176-9a96-40aad329c8fc",
   "metadata": {},
   "outputs": [
    {
     "name": "stdout",
     "output_type": "stream",
     "text": [
      "\n",
      "Total Sales by Group:\n",
      "Group\n",
      "Kids       85072500\n",
      "Men        85750000\n",
      "Seniors    84037500\n",
      "Women      85442500\n",
      "Name: Sales, dtype: int64\n"
     ]
    }
   ],
   "source": [
    "# Group by Group and sum sales\n",
    "sales_by_group = df.groupby('Group')['Sales'].sum()\n",
    "\n",
    "print(\"\\nTotal Sales by Group:\")\n",
    "print(sales_by_group)\n"
   ]
  },
  {
   "cell_type": "markdown",
   "id": "f6a18ccb-e057-442a-880d-cb2812e6b46a",
   "metadata": {},
   "source": [
    "##### By Unit and Sales\n",
    "##### By State"
   ]
  },
  {
   "cell_type": "code",
   "execution_count": 37,
   "id": "a5f7f41c-2d08-4487-a5d2-1c3cfa52ed7a",
   "metadata": {},
   "outputs": [
    {
     "name": "stdout",
     "output_type": "stream",
     "text": [
      "\n",
      "Total Units and Sales by State:\n",
      "        Unit      Sales\n",
      "State                  \n",
      "NSW    29988   74970000\n",
      "NT      9032   22580000\n",
      "QLD    13367   33417500\n",
      "SA     23543   58857500\n",
      "TAS     9104   22760000\n",
      "VIC    42226  105565000\n",
      "WA      8861   22152500\n"
     ]
    }
   ],
   "source": [
    "# Group by State and sum units and sales\n",
    "unit_sales_by_state = df.groupby('State')[['Unit', 'Sales']].sum()\n",
    "\n",
    "print(\"\\nTotal Units and Sales by State:\")\n",
    "print(unit_sales_by_state)\n"
   ]
  },
  {
   "cell_type": "markdown",
   "id": "5d088540-e946-4697-8cff-dc7e5f46b191",
   "metadata": {},
   "source": [
    "##### By Group"
   ]
  },
  {
   "cell_type": "code",
   "execution_count": 38,
   "id": "31240b9f-caf4-47bf-85b5-3619c8a76f44",
   "metadata": {},
   "outputs": [
    {
     "name": "stdout",
     "output_type": "stream",
     "text": [
      "\n",
      "Total Units and Sales by Group:\n",
      "          Unit     Sales\n",
      "Group                   \n",
      "Kids     34029  85072500\n",
      "Men      34300  85750000\n",
      "Seniors  33615  84037500\n",
      "Women    34177  85442500\n"
     ]
    }
   ],
   "source": [
    "# Group by Group and sum units and sales\n",
    "unit_sales_by_group = df.groupby('Group')[['Unit', 'Sales']].sum()\n",
    "\n",
    "print(\"\\nTotal Units and Sales by Group:\")\n",
    "print(unit_sales_by_group)\n"
   ]
  },
  {
   "cell_type": "markdown",
   "id": "5686fdc2-7a18-4ef4-875e-d2e6f4492e73",
   "metadata": {},
   "source": [
    "### Descriptive Statistical Analysis: Sales and Unit Columns"
   ]
  },
  {
   "cell_type": "code",
   "execution_count": 39,
   "id": "47ea55bf-b79e-4a70-a3cf-597df3582122",
   "metadata": {},
   "outputs": [
    {
     "name": "stdout",
     "output_type": "stream",
     "text": [
      "Descriptive Statistics for 'Sales':\n",
      "count      7560.000000\n",
      "mean      45013.558201\n",
      "std       32253.506944\n",
      "min        5000.000000\n",
      "25%       20000.000000\n",
      "50%       35000.000000\n",
      "75%       65000.000000\n",
      "max      162500.000000\n",
      "Name: Sales, dtype: float64\n",
      "\n",
      "Median for 'Sales': 35000.0\n",
      "Mode for 'Sales': 22500\n",
      "Standard Deviation for 'Sales': 32253.506943966073\n",
      "\n",
      "---------------------------------\n",
      "\n",
      "Descriptive Statistics for 'Unit':\n",
      "count    7560.000000\n",
      "mean       18.005423\n",
      "std        12.901403\n",
      "min         2.000000\n",
      "25%         8.000000\n",
      "50%        14.000000\n",
      "75%        26.000000\n",
      "max        65.000000\n",
      "Name: Unit, dtype: float64\n",
      "\n",
      "Median for 'Unit': 14.0\n",
      "Mode for 'Unit': 9\n",
      "Standard Deviation for 'Unit': 12.90140277758643\n"
     ]
    }
   ],
   "source": [
    "# Descriptive statistical analysis on 'Sales' and 'Unit' columns\n",
    "sales_stats = df['Sales'].describe()\n",
    "unit_stats = df['Unit'].describe()\n",
    "\n",
    "# Median and mode for 'Sales'\n",
    "sales_median = df['Sales'].median()\n",
    "sales_mode = df['Sales'].mode().iloc[0]\n",
    "\n",
    "# Median and mode for 'Unit'\n",
    "unit_median = df['Unit'].median()\n",
    "unit_mode = df['Unit'].mode().iloc[0]\n",
    "\n",
    "# Standard deviation for 'Sales' and 'Unit'\n",
    "sales_std_dev = df['Sales'].std()\n",
    "unit_std_dev = df['Unit'].std()\n",
    "\n",
    "# Display results\n",
    "print(\"Descriptive Statistics for 'Sales':\")\n",
    "print(sales_stats)\n",
    "print(\"\\nMedian for 'Sales':\", sales_median)\n",
    "print(\"Mode for 'Sales':\", sales_mode)\n",
    "print(\"Standard Deviation for 'Sales':\", sales_std_dev)\n",
    "\n",
    "print(\"\\n---------------------------------\\n\")\n",
    "\n",
    "print(\"Descriptive Statistics for 'Unit':\")\n",
    "print(unit_stats)\n",
    "print(\"\\nMedian for 'Unit':\", unit_median)\n",
    "print(\"Mode for 'Unit':\", unit_mode)\n",
    "print(\"Standard Deviation for 'Unit':\", unit_std_dev)\n"
   ]
  },
  {
   "cell_type": "markdown",
   "id": "c3dd8049-ca75-43ae-820a-7bb283205bc9",
   "metadata": {},
   "source": [
    "##### Highest and Lowest sales by Group"
   ]
  },
  {
   "cell_type": "code",
   "execution_count": 40,
   "id": "adc8dcfb-8e97-48f8-aedf-7c3ffb273b52",
   "metadata": {},
   "outputs": [
    {
     "name": "stdout",
     "output_type": "stream",
     "text": [
      "Group generating the highest sales:  Men\n",
      "Group generating the lowest sales:  Seniors\n"
     ]
    }
   ],
   "source": [
    "# Determine which group is generating the highest sales\n",
    "highest_sales_group = df.groupby('Group')['Sales'].sum().idxmax()\n",
    "\n",
    "# Determine which group is generating the lowest sales\n",
    "lowest_sales_group = df.groupby('Group')['Sales'].sum().idxmin()\n",
    "\n",
    "# Show results\n",
    "print(f'Group generating the highest sales: {highest_sales_group}')\n",
    "print(f'Group generating the lowest sales: {lowest_sales_group}')\n",
    "\n",
    "# groupby() is used to group the data by \"Group\". Calculating the sum for each group using sum()\n",
    "# idxmax() - to get the group with max sales\n",
    "# idxmin() - to get the group with min sales"
   ]
  },
  {
   "cell_type": "markdown",
   "id": "c00184a6-4ffc-4d93-a41d-c80dfcd4e26a",
   "metadata": {},
   "source": [
    "##### Highest and Lowest sales by State"
   ]
  },
  {
   "cell_type": "code",
   "execution_count": 41,
   "id": "96e9e5ad-a7c6-43a4-8687-8f3cbbd9f282",
   "metadata": {},
   "outputs": [
    {
     "name": "stdout",
     "output_type": "stream",
     "text": [
      "State generating the highest sales:  VIC\n",
      "State generating the lowest sales:  WA\n"
     ]
    }
   ],
   "source": [
    "# Determine which state is generating the highest sales\n",
    "highest_sales_state = df.groupby('State')['Sales'].sum().idxmax()\n",
    "\n",
    "# Determine which state is generating the lowest sales\n",
    "lowest_sales_state = df.groupby('State')['Sales'].sum().idxmin()\n",
    "\n",
    "# Display the results using f-strings\n",
    "print(f\"State generating the highest sales: {highest_sales_state}\")\n",
    "print(f\"State generating the lowest sales: {lowest_sales_state}\")\n",
    "\n",
    "# Same logic as previous (Group), but with the state column."
   ]
  },
  {
   "cell_type": "markdown",
   "id": "aeb83703-2033-42c9-b401-396dd088189c",
   "metadata": {},
   "source": [
    "### Weekly, monthly and quarterly reports"
   ]
  },
  {
   "cell_type": "markdown",
   "id": "5e8f59c7-49c9-4aca-b82e-756ccf04152b",
   "metadata": {},
   "source": [
    "I used the resample method in pandas. This method allows us to group time-series data based on different frequencies."
   ]
  },
  {
   "cell_type": "markdown",
   "id": "680b3a14-e633-4f09-a51d-c938a97612ac",
   "metadata": {},
   "source": [
    "References:"
   ]
  },
  {
   "cell_type": "markdown",
   "id": "40423697-ceb1-4723-adaf-717cb008cdf5",
   "metadata": {},
   "source": [
    "https://pandas.pydata.org/pandas-docs/stable/reference/api/pandas.DataFrame.resample.html"
   ]
  },
  {
   "cell_type": "markdown",
   "id": "96dff4f3-67f2-4e68-b49c-d926a7f33662",
   "metadata": {},
   "source": [
    "https://www.geeksforgeeks.org/python-pandas-dataframe-resample/"
   ]
  },
  {
   "cell_type": "markdown",
   "id": "ea66846e-14f3-4b0c-b447-cd8f6505cd63",
   "metadata": {},
   "source": [
    "##### Weekly Report"
   ]
  },
  {
   "cell_type": "code",
   "execution_count": 47,
   "id": "23989b41-c301-459f-98d7-32e325893642",
   "metadata": {},
   "outputs": [
    {
     "name": "stdout",
     "output_type": "stream",
     "text": [
      "Weekly Report\n",
      "              week_of   Unit     Sales\n",
      "Date                                  \n",
      "2020-10-04 2020-09-28   6018  15045000\n",
      "2020-10-11 2020-10-05  10801  27002500\n",
      "2020-10-18 2020-10-12  10656  26640000\n",
      "2020-10-25 2020-10-19  10726  26815000\n",
      "2020-11-01 2020-10-26   8723  21807500\n",
      "2020-11-08 2020-11-02   8346  20865000\n",
      "2020-11-15 2020-11-09   8469  21172500\n",
      "2020-11-22 2020-11-16   8445  21112500\n",
      "2020-11-29 2020-11-23   8591  21477500\n",
      "2020-12-06 2020-11-30  11849  29622500\n",
      "2020-12-13 2020-12-07  12610  31525000\n",
      "2020-12-20 2020-12-14  12662  31655000\n",
      "2020-12-27 2020-12-21  12708  31770000\n",
      "2021-01-03 2020-12-28   5517  13792500\n"
     ]
    }
   ],
   "source": [
    "# Resample the data to weekly and sum the values\n",
    "weekly_report = df.resample('W').agg({\n",
    "    'Unit': 'sum',\n",
    "    'Sales': 'sum'\n",
    "})\n",
    "\n",
    "# Column with the start date of each week - to make the report more readable\n",
    "weekly_report['week_of'] = weekly_report.index.to_period('W').start_time\n",
    "\n",
    "# Reorder columns to make 'week_of' the first column\n",
    "weekly_report = weekly_report[['week_of', 'Unit', 'Sales']]\n",
    "\n",
    "# Display report\n",
    "print(\"Weekly Report\")\n",
    "print(weekly_report)\n"
   ]
  },
  {
   "cell_type": "markdown",
   "id": "2d9d747d-85ff-44a0-b485-b03e9a8b4fff",
   "metadata": {},
   "source": [
    "##### Weekly Report (Unit, Sales, Group)"
   ]
  },
  {
   "cell_type": "code",
   "execution_count": 52,
   "id": "894f6a4c-9b19-43b3-87ee-650e58f61c4a",
   "metadata": {},
   "outputs": [
    {
     "name": "stdout",
     "output_type": "stream",
     "text": [
      "Weekly Report with Details for Group:\n",
      "       Group       Date  Unit    Sales\n",
      "0       Kids 2020-09-28  1476  3690000\n",
      "1       Kids 2020-10-05  2808  7020000\n",
      "2       Kids 2020-10-12  2683  6707500\n",
      "3       Kids 2020-10-19  2610  6525000\n",
      "4       Kids 2020-10-26  2196  5490000\n",
      "5       Kids 2020-11-02  2050  5125000\n",
      "6       Kids 2020-11-09  2126  5315000\n",
      "7       Kids 2020-11-16  2121  5302500\n",
      "8       Kids 2020-11-23  2231  5577500\n",
      "9       Kids 2020-11-30  2945  7362500\n",
      "10      Kids 2020-12-07  3212  8030000\n",
      "11      Kids 2020-12-14  3106  7765000\n",
      "12      Kids 2020-12-21  3052  7630000\n",
      "13      Kids 2020-12-28  1413  3532500\n",
      "14       Men 2020-09-28  1492  3730000\n",
      "15       Men 2020-10-05  2723  6807500\n",
      "16       Men 2020-10-12  2684  6710000\n",
      "17       Men 2020-10-19  2749  6872500\n",
      "18       Men 2020-10-26  2203  5507500\n",
      "19       Men 2020-11-02  2134  5335000\n",
      "20       Men 2020-11-09  2097  5242500\n",
      "21       Men 2020-11-16  2010  5025000\n",
      "22       Men 2020-11-23  2193  5482500\n",
      "23       Men 2020-11-30  3002  7505000\n",
      "24       Men 2020-12-07  3121  7802500\n",
      "25       Men 2020-12-14  3196  7990000\n",
      "26       Men 2020-12-21  3335  8337500\n",
      "27       Men 2020-12-28  1361  3402500\n",
      "28   Seniors 2020-09-28  1513  3782500\n",
      "29   Seniors 2020-10-05  2695  6737500\n",
      "30   Seniors 2020-10-12  2588  6470000\n",
      "31   Seniors 2020-10-19  2703  6757500\n",
      "32   Seniors 2020-10-26  2216  5540000\n",
      "33   Seniors 2020-11-02  1985  4962500\n",
      "34   Seniors 2020-11-09  2159  5397500\n",
      "35   Seniors 2020-11-16  2080  5200000\n",
      "36   Seniors 2020-11-23  2121  5302500\n",
      "37   Seniors 2020-11-30  2887  7217500\n",
      "38   Seniors 2020-12-07  3122  7805000\n",
      "39   Seniors 2020-12-14  3109  7772500\n",
      "40   Seniors 2020-12-21  3074  7685000\n",
      "41   Seniors 2020-12-28  1363  3407500\n",
      "42     Women 2020-09-28  1537  3842500\n",
      "43     Women 2020-10-05  2575  6437500\n",
      "44     Women 2020-10-12  2701  6752500\n",
      "45     Women 2020-10-19  2664  6660000\n",
      "46     Women 2020-10-26  2108  5270000\n",
      "47     Women 2020-11-02  2177  5442500\n",
      "48     Women 2020-11-09  2087  5217500\n",
      "49     Women 2020-11-16  2234  5585000\n",
      "50     Women 2020-11-23  2046  5115000\n",
      "51     Women 2020-11-30  3015  7537500\n",
      "52     Women 2020-12-07  3155  7887500\n",
      "53     Women 2020-12-14  3251  8127500\n",
      "54     Women 2020-12-21  3247  8117500\n",
      "55     Women 2020-12-28  1380  3450000\n"
     ]
    }
   ],
   "source": [
    "# Resample the data to weekly and sum the values\n",
    "weekly_report_group = df.groupby(['Group', df.index.to_period('W').start_time]).agg({\n",
    "    'Unit': 'sum',\n",
    "    'Sales': 'sum'\n",
    "}).reset_index()\n",
    "\n",
    "print(\"Weekly Report with Details for Group:\")\n",
    "print(weekly_report_group)\n"
   ]
  },
  {
   "cell_type": "markdown",
   "id": "275729e1-750a-4331-af02-509b91d852fd",
   "metadata": {},
   "source": [
    "##### Weekly Report (Unit, Sales, State)"
   ]
  },
  {
   "cell_type": "code",
   "execution_count": 51,
   "id": "5b72c82d-0770-48ba-b1c1-4c5b5a1e0da2",
   "metadata": {},
   "outputs": [
    {
     "name": "stdout",
     "output_type": "stream",
     "text": [
      "\n",
      "Weekly Report with Details for State:\n",
      "   State       Date  Unit    Sales\n",
      "0    NSW 2020-09-28  1353  3382500\n",
      "1    NSW 2020-10-05  2357  5892500\n",
      "2    NSW 2020-10-12  2287  5717500\n",
      "3    NSW 2020-10-19  2369  5922500\n",
      "4    NSW 2020-10-26  1929  4822500\n",
      "..   ...        ...   ...      ...\n",
      "93    WA 2020-11-30   824  2060000\n",
      "94    WA 2020-12-07   858  2145000\n",
      "95    WA 2020-12-14   802  2005000\n",
      "96    WA 2020-12-21   837  2092500\n",
      "97    WA 2020-12-28   370   925000\n",
      "\n",
      "[98 rows x 4 columns]\n"
     ]
    }
   ],
   "source": [
    "# Resample the data to weekly and sum the values\n",
    "weekly_report_state = df.groupby(['State', df.index.to_period('W').start_time]).agg({\n",
    "    'Unit': 'sum',\n",
    "    'Sales': 'sum'\n",
    "}).reset_index()\n",
    "\n",
    "print(\"\\nWeekly Report with Details for State:\")\n",
    "print(weekly_report_state)\n"
   ]
  },
  {
   "cell_type": "markdown",
   "id": "19446e40-b3a1-44fb-aea2-d739a93e9957",
   "metadata": {},
   "source": [
    "##### Monthly Report"
   ]
  },
  {
   "cell_type": "code",
   "execution_count": 49,
   "id": "63d733bd-61ca-4599-afa8-0aa0ad297c26",
   "metadata": {},
   "outputs": [
    {
     "name": "stdout",
     "output_type": "stream",
     "text": [
      "Monthly Report\n",
      "           month_name   Unit      Sales\n",
      "Date                                   \n",
      "2020-10-31    October  45716  114290000\n",
      "2020-11-30   November  36273   90682500\n",
      "2020-12-31   December  54132  135330000\n"
     ]
    }
   ],
   "source": [
    "# Resample the data to monthly and sum the values\n",
    "monthly_report = df.resample('ME').agg({\n",
    "    'Unit': 'sum',\n",
    "    'Sales': 'sum'\n",
    "})\n",
    "\n",
    "# Column with the month name - to make the report more readable\n",
    "monthly_report['month_name'] = monthly_report.index.strftime('%B')\n",
    "\n",
    "# Reorder columns to make 'month_name' the first column\n",
    "monthly_report = monthly_report[['month_name', 'Unit', 'Sales']]\n",
    "\n",
    "# Display report\n",
    "print(\"Monthly Report\")\n",
    "print(monthly_report)\n"
   ]
  },
  {
   "cell_type": "markdown",
   "id": "151134a7-3397-44e0-9571-183aa07060f2",
   "metadata": {},
   "source": [
    "##### Monthly Report (Unit, Sales, Group)"
   ]
  },
  {
   "cell_type": "code",
   "execution_count": 54,
   "id": "a33b54ba-67c9-4263-b8b5-aa1552fb4bb0",
   "metadata": {},
   "outputs": [
    {
     "name": "stdout",
     "output_type": "stream",
     "text": [
      "Monthly Report with Details for Group:\n",
      "       Group       Date   Unit     Sales\n",
      "0       Kids 2020-10-01  11454  28635000\n",
      "1       Kids 2020-11-01   9153  22882500\n",
      "2       Kids 2020-12-01  13422  33555000\n",
      "3        Men 2020-10-01  11554  28885000\n",
      "4        Men 2020-11-01   9046  22615000\n",
      "5        Men 2020-12-01  13700  34250000\n",
      "6    Seniors 2020-10-01  11426  28565000\n",
      "7    Seniors 2020-11-01   8929  22322500\n",
      "8    Seniors 2020-12-01  13260  33150000\n",
      "9      Women 2020-10-01  11282  28205000\n",
      "10     Women 2020-11-01   9145  22862500\n",
      "11     Women 2020-12-01  13750  34375000\n"
     ]
    }
   ],
   "source": [
    "# Resample the data to monthly and sum the values with details for each group\n",
    "monthly_report_group = df.groupby(['Group', df.index.to_period('M').start_time]).agg({\n",
    "    'Unit': 'sum',\n",
    "    'Sales': 'sum'\n",
    "}).reset_index()\n",
    "\n",
    "print(\"Monthly Report with Details for Group:\")\n",
    "print(monthly_report_group)\n"
   ]
  },
  {
   "cell_type": "markdown",
   "id": "137078e5-ebff-4936-8271-73bc77cbaaf6",
   "metadata": {},
   "source": [
    "##### Monthly Report (Unit, Sales, State)"
   ]
  },
  {
   "cell_type": "code",
   "execution_count": 55,
   "id": "0517f928-b9c3-4620-9c71-3ae2464d4973",
   "metadata": {},
   "outputs": [
    {
     "name": "stdout",
     "output_type": "stream",
     "text": [
      "Monthly Report with Details for State:\n",
      "   State       Date   Unit     Sales\n",
      "0    NSW 2020-10-01  10003  25007500\n",
      "1    NSW 2020-11-01   8596  21490000\n",
      "2    NSW 2020-12-01  11389  28472500\n",
      "3     NT 2020-10-01   3289   8222500\n",
      "4     NT 2020-11-01   2103   5257500\n",
      "5     NT 2020-12-01   3640   9100000\n",
      "6    QLD 2020-10-01   4448  11120000\n",
      "7    QLD 2020-11-01   3244   8110000\n",
      "8    QLD 2020-12-01   5675  14187500\n",
      "9     SA 2020-10-01   8244  20610000\n",
      "10    SA 2020-11-01   6213  15532500\n",
      "11    SA 2020-12-01   9086  22715000\n",
      "12   TAS 2020-10-01   3206   8015000\n",
      "13   TAS 2020-11-01   2218   5545000\n",
      "14   TAS 2020-12-01   3680   9200000\n",
      "15   VIC 2020-10-01  13377  33442500\n",
      "16   VIC 2020-11-01  11812  29530000\n",
      "17   VIC 2020-12-01  17037  42592500\n",
      "18    WA 2020-10-01   3149   7872500\n",
      "19    WA 2020-11-01   2087   5217500\n",
      "20    WA 2020-12-01   3625   9062500\n"
     ]
    }
   ],
   "source": [
    "# Resample the data to monthly and sum the values with details for each state\n",
    "monthly_report_state = df.groupby(['State', df.index.to_period('M').start_time]).agg({\n",
    "    'Unit': 'sum',\n",
    "    'Sales': 'sum'\n",
    "}).reset_index()\n",
    "\n",
    "print(\"Monthly Report with Details for State:\")\n",
    "print(monthly_report_state)\n"
   ]
  },
  {
   "cell_type": "markdown",
   "id": "c7f543c9-ad6e-4517-aa52-14c32b2acee0",
   "metadata": {},
   "source": [
    "##### Quarterly Report (Unit, Sales, Group)"
   ]
  },
  {
   "cell_type": "code",
   "execution_count": 56,
   "id": "2634192c-58b4-4f79-b367-d94d78ff693a",
   "metadata": {},
   "outputs": [
    {
     "name": "stdout",
     "output_type": "stream",
     "text": [
      "Quarterly Report with Details for Group:\n",
      "      Group       Date   Unit     Sales\n",
      "0      Kids 2020-10-01  34029  85072500\n",
      "1       Men 2020-10-01  34300  85750000\n",
      "2   Seniors 2020-10-01  33615  84037500\n",
      "3     Women 2020-10-01  34177  85442500\n"
     ]
    }
   ],
   "source": [
    "# Resample the data to quarterly and sum the values with details for each group\n",
    "quarterly_report_group = df.groupby(['Group', df.index.to_period('Q').start_time]).agg({\n",
    "    'Unit': 'sum',\n",
    "    'Sales': 'sum'\n",
    "}).reset_index()\n",
    "\n",
    "print(\"Quarterly Report with Details for Group:\")\n",
    "print(quarterly_report_group)\n"
   ]
  },
  {
   "cell_type": "markdown",
   "id": "420b04cf-ac59-4ffb-92b6-927ccc312d5d",
   "metadata": {},
   "source": [
    "##### Quarterly Report (Unit, Sales, State)"
   ]
  },
  {
   "cell_type": "code",
   "execution_count": 57,
   "id": "73b08cff-f497-4863-88ce-63554887210a",
   "metadata": {},
   "outputs": [
    {
     "name": "stdout",
     "output_type": "stream",
     "text": [
      "\n",
      "Quarterly Report with Details for State:\n",
      "  State       Date   Unit      Sales\n",
      "0   NSW 2020-10-01  29988   74970000\n",
      "1    NT 2020-10-01   9032   22580000\n",
      "2   QLD 2020-10-01  13367   33417500\n",
      "3    SA 2020-10-01  23543   58857500\n",
      "4   TAS 2020-10-01   9104   22760000\n",
      "5   VIC 2020-10-01  42226  105565000\n",
      "6    WA 2020-10-01   8861   22152500\n"
     ]
    }
   ],
   "source": [
    "# Resample the data to quarterly and sum the values with details for each state\n",
    "quarterly_report_state = df.groupby(['State', df.index.to_period('Q').start_time]).agg({\n",
    "    'Unit': 'sum',\n",
    "    'Sales': 'sum'\n",
    "}).reset_index()\n",
    "\n",
    "print(\"\\nQuarterly Report with Details for State:\")\n",
    "print(quarterly_report_state)\n"
   ]
  },
  {
   "cell_type": "code",
   "execution_count": null,
   "id": "2b732c5e-3975-48fd-9add-618229199aa0",
   "metadata": {},
   "outputs": [],
   "source": []
  }
 ],
 "metadata": {
  "kernelspec": {
   "display_name": "Python 3 (ipykernel)",
   "language": "python",
   "name": "python3"
  },
  "language_info": {
   "codemirror_mode": {
    "name": "ipython",
    "version": 3
   },
   "file_extension": ".py",
   "mimetype": "text/x-python",
   "name": "python",
   "nbconvert_exporter": "python",
   "pygments_lexer": "ipython3",
   "version": "3.10.5"
  }
 },
 "nbformat": 4,
 "nbformat_minor": 5
}
