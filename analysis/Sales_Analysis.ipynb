{
 "cells": [
  {
   "cell_type": "markdown",
   "id": "55557faf-5978-4f1b-880c-4c933506536a",
   "metadata": {},
   "source": [
    "# Sales Analysis - AAL"
   ]
  },
  {
   "cell_type": "markdown",
   "id": "e69e92d6-23fe-4ecd-8abc-02e8b64cfbbd",
   "metadata": {},
   "source": [
    "### 1. Data Wrangling"
   ]
  },
  {
   "cell_type": "code",
   "execution_count": 17,
   "id": "cfabcb10-0a21-48bd-818c-35057046c22f",
   "metadata": {},
   "outputs": [],
   "source": [
    "# importing the necessary libraries\n",
    "import pandas as pd\n",
    "import matplotlib.pyplot as plt\n",
    "import seaborn as sns"
   ]
  },
  {
   "cell_type": "markdown",
   "id": "715d44c7-324f-4987-b69e-9e9d476876a9",
   "metadata": {},
   "source": [
    "##### Check for missing values"
   ]
  },
  {
   "cell_type": "code",
   "execution_count": 18,
   "id": "75387f21-1a08-4316-855f-30e37ed978a1",
   "metadata": {},
   "outputs": [
    {
     "name": "stdout",
     "output_type": "stream",
     "text": [
      "Total Rows: 7560\n",
      "\n",
      "Missing Data:\n",
      "Date     0\n",
      "Time     0\n",
      "State    0\n",
      "Group    0\n",
      "Unit     0\n",
      "Sales    0\n",
      "dtype: int64\n",
      "\n",
      "Non-missing Data:\n",
      "Date     7560\n",
      "Time     7560\n",
      "State    7560\n",
      "Group    7560\n",
      "Unit     7560\n",
      "Sales    7560\n",
      "dtype: int64\n"
     ]
    }
   ],
   "source": [
    "# Load data from the csv file\n",
    "df = pd.read_csv('../data/ausapparalsales4thqrt2020.csv')\n",
    "\n",
    "# Check missing data\n",
    "missing_data = df.isna().sum()\n",
    "\n",
    "# Count rows\n",
    "row_count = df.shape[0]\n",
    "\n",
    "# Non-missing data\n",
    "non_missing_data = df.notna().sum()\n",
    "\n",
    "print(f'Total Rows: {row_count}\\n\\nMissing Data:\\n{missing_data}\\n\\nNon-missing Data:\\n{non_missing_data}')"
   ]
  },
  {
   "cell_type": "markdown",
   "id": "1b7d0632-8161-466c-8562-548b29a4cccf",
   "metadata": {},
   "source": [
    "##### The above indicates that there is no missing data.\n",
    "\n",
    "##### Dropping Null Values\n",
    "If the percentage of missing values is relatively small and randomly distributed, we can consider dropping rows with missing values un=sing df.dropna().\n",
    "\n",
    "##### Filling Null Values\n",
    "If missing values follow a pattern or can be reasonably estimated, we can consider filling them with appropriate values like mean, median, or forward/backward fill. In this case we can use df.fillna()."
   ]
  },
  {
   "cell_type": "code",
   "execution_count": 19,
   "id": "c4bbf5ba-b533-4497-864f-084d125fc0d5",
   "metadata": {},
   "outputs": [
    {
     "name": "stdout",
     "output_type": "stream",
     "text": [
      "Normalized Data:\n",
      "        Date        Time State     Group  Unit  Sales  Unit_normalized  \\\n",
      "0  01 Oct 20     Morning    WA      Kids     8  20000         0.095238   \n",
      "1  01 Oct 20     Morning    WA       Men     8  20000         0.095238   \n",
      "2  01 Oct 20     Morning    WA     Women     4  10000         0.031746   \n",
      "3  01 Oct 20     Morning    WA   Seniors    15  37500         0.206349   \n",
      "4  01 Oct 20   Afternoon    WA      Kids     3   7500         0.015873   \n",
      "\n",
      "   Sales_normalized  \n",
      "0          0.095238  \n",
      "1          0.095238  \n",
      "2          0.031746  \n",
      "3          0.206349  \n",
      "4          0.015873  \n"
     ]
    }
   ],
   "source": [
    "from sklearn.preprocessing import MinMaxScaler\n",
    "\n",
    "# Numeric columns for normalization\n",
    "numeric_cols = ['Unit', 'Sales']\n",
    "\n",
    "# Initializing scaler\n",
    "scaler = MinMaxScaler()\n",
    "\n",
    "# Create new columns for normalized data\n",
    "normalized_cols = [f'{col}_normalized' for col in numeric_cols]\n",
    "\n",
    "# Normalizing columns\n",
    "df[normalized_cols] = scaler.fit_transform(df[numeric_cols])\n",
    "\n",
    "# Showing first few rows of the normalized data\n",
    "print(\"Normalized Data:\")\n",
    "print(df.head())\n"
   ]
  },
  {
   "cell_type": "markdown",
   "id": "2316d6a2-abc0-4022-a798-300b1474226c",
   "metadata": {},
   "source": [
    "#### Grouping\n",
    "##### Grouping by Sales\n",
    "##### By State"
   ]
  },
  {
   "cell_type": "code",
   "execution_count": 20,
   "id": "b43c15f5-bf53-4121-8f53-0ba7f6c25cfe",
   "metadata": {},
   "outputs": [
    {
     "name": "stdout",
     "output_type": "stream",
     "text": [
      "Total Sales by State:\n",
      "State\n",
      "NSW     74970000\n",
      "NT      22580000\n",
      "QLD     33417500\n",
      "SA      58857500\n",
      "TAS     22760000\n",
      "VIC    105565000\n",
      "WA      22152500\n",
      "Name: Sales, dtype: int64\n"
     ]
    }
   ],
   "source": [
    "# Group by State and sum sales\n",
    "sales_by_state = df.groupby('State')['Sales'].sum()\n",
    "\n",
    "print(\"Total Sales by State:\")\n",
    "print(sales_by_state)\n"
   ]
  },
  {
   "cell_type": "markdown",
   "id": "3f27cef1-a00a-463f-b532-a2bf5d63557e",
   "metadata": {},
   "source": [
    "##### By Group"
   ]
  },
  {
   "cell_type": "code",
   "execution_count": 22,
   "id": "abfb9088-73fe-4176-9a96-40aad329c8fc",
   "metadata": {},
   "outputs": [
    {
     "name": "stdout",
     "output_type": "stream",
     "text": [
      "\n",
      "Total Sales by Group:\n",
      "Group\n",
      "Kids       85072500\n",
      "Men        85750000\n",
      "Seniors    84037500\n",
      "Women      85442500\n",
      "Name: Sales, dtype: int64\n"
     ]
    }
   ],
   "source": [
    "# Group by Group and sum sales\n",
    "sales_by_group = df.groupby('Group')['Sales'].sum()\n",
    "\n",
    "print(\"\\nTotal Sales by Group:\")\n",
    "print(sales_by_group)\n"
   ]
  },
  {
   "cell_type": "markdown",
   "id": "f6a18ccb-e057-442a-880d-cb2812e6b46a",
   "metadata": {},
   "source": [
    "##### By Unit and Sales\n",
    "##### By State"
   ]
  },
  {
   "cell_type": "code",
   "execution_count": 23,
   "id": "a5f7f41c-2d08-4487-a5d2-1c3cfa52ed7a",
   "metadata": {},
   "outputs": [
    {
     "name": "stdout",
     "output_type": "stream",
     "text": [
      "\n",
      "Total Units and Sales by State:\n",
      "        Unit      Sales\n",
      "State                  \n",
      "NSW    29988   74970000\n",
      "NT      9032   22580000\n",
      "QLD    13367   33417500\n",
      "SA     23543   58857500\n",
      "TAS     9104   22760000\n",
      "VIC    42226  105565000\n",
      "WA      8861   22152500\n"
     ]
    }
   ],
   "source": [
    "# Group by State and sum units and sales\n",
    "unit_sales_by_state = df.groupby('State')[['Unit', 'Sales']].sum()\n",
    "\n",
    "print(\"\\nTotal Units and Sales by State:\")\n",
    "print(unit_sales_by_state)\n"
   ]
  },
  {
   "cell_type": "markdown",
   "id": "5d088540-e946-4697-8cff-dc7e5f46b191",
   "metadata": {},
   "source": [
    "##### By Group"
   ]
  },
  {
   "cell_type": "code",
   "execution_count": 24,
   "id": "31240b9f-caf4-47bf-85b5-3619c8a76f44",
   "metadata": {},
   "outputs": [
    {
     "name": "stdout",
     "output_type": "stream",
     "text": [
      "\n",
      "Total Units and Sales by Group:\n",
      "          Unit     Sales\n",
      "Group                   \n",
      "Kids     34029  85072500\n",
      "Men      34300  85750000\n",
      "Seniors  33615  84037500\n",
      "Women    34177  85442500\n"
     ]
    }
   ],
   "source": [
    "# Group by Group and sum units and sales\n",
    "unit_sales_by_group = df.groupby('Group')[['Unit', 'Sales']].sum()\n",
    "\n",
    "print(\"\\nTotal Units and Sales by Group:\")\n",
    "print(unit_sales_by_group)\n"
   ]
  },
  {
   "cell_type": "code",
   "execution_count": null,
   "id": "ae9fbc8a-ed3d-46fe-90d6-d8c4de089a09",
   "metadata": {},
   "outputs": [],
   "source": []
  }
 ],
 "metadata": {
  "kernelspec": {
   "display_name": "Python 3 (ipykernel)",
   "language": "python",
   "name": "python3"
  },
  "language_info": {
   "codemirror_mode": {
    "name": "ipython",
    "version": 3
   },
   "file_extension": ".py",
   "mimetype": "text/x-python",
   "name": "python",
   "nbconvert_exporter": "python",
   "pygments_lexer": "ipython3",
   "version": "3.10.5"
  }
 },
 "nbformat": 4,
 "nbformat_minor": 5
}
